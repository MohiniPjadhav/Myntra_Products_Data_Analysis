{
 "cells": [
  {
   "cell_type": "code",
   "execution_count": 127,
   "id": "c173b660",
   "metadata": {},
   "outputs": [],
   "source": [
    "import pandas as pd\n",
    "import numpy as np\n",
    "import matplotlib.pyplot as plt \n",
    "import seaborn as sns"
   ]
  },
  {
   "cell_type": "code",
   "execution_count": 128,
   "id": "b829bf7e",
   "metadata": {},
   "outputs": [
    {
     "data": {
      "text/html": [
       "<div>\n",
       "<style scoped>\n",
       "    .dataframe tbody tr th:only-of-type {\n",
       "        vertical-align: middle;\n",
       "    }\n",
       "\n",
       "    .dataframe tbody tr th {\n",
       "        vertical-align: top;\n",
       "    }\n",
       "\n",
       "    .dataframe thead th {\n",
       "        text-align: right;\n",
       "    }\n",
       "</style>\n",
       "<table border=\"1\" class=\"dataframe\">\n",
       "  <thead>\n",
       "    <tr style=\"text-align: right;\">\n",
       "      <th></th>\n",
       "      <th>id</th>\n",
       "      <th>name</th>\n",
       "      <th>img</th>\n",
       "      <th>asin</th>\n",
       "      <th>price</th>\n",
       "      <th>mrp</th>\n",
       "      <th>rating</th>\n",
       "      <th>ratingTotal</th>\n",
       "      <th>discount</th>\n",
       "      <th>seller</th>\n",
       "      <th>purl</th>\n",
       "    </tr>\n",
       "  </thead>\n",
       "  <tbody>\n",
       "    <tr>\n",
       "      <th>0</th>\n",
       "      <td>1</td>\n",
       "      <td>Men Solid Oversized Cotton</td>\n",
       "      <td>https://assets.myntassets.com/f_webp,dpr_1.0,q...</td>\n",
       "      <td>-</td>\n",
       "      <td>532.0</td>\n",
       "      <td>1299.0</td>\n",
       "      <td>4.1</td>\n",
       "      <td>5300</td>\n",
       "      <td>59</td>\n",
       "      <td>Difference of Opinion</td>\n",
       "      <td>https://www.myntra.com/tshirts/difference-of-o...</td>\n",
       "    </tr>\n",
       "    <tr>\n",
       "      <th>1</th>\n",
       "      <td>2</td>\n",
       "      <td>Men Cotton Pure Cotton T-shirt</td>\n",
       "      <td>https://assets.myntassets.com/f_webp,dpr_1.0,q...</td>\n",
       "      <td>-</td>\n",
       "      <td>274.0</td>\n",
       "      <td>499.0</td>\n",
       "      <td>4.2</td>\n",
       "      <td>25400</td>\n",
       "      <td>45</td>\n",
       "      <td>Roadster</td>\n",
       "      <td>https://www.myntra.com/tshirts/roadster/roadst...</td>\n",
       "    </tr>\n",
       "    <tr>\n",
       "      <th>2</th>\n",
       "      <td>3</td>\n",
       "      <td>Women Pure Cotton T-shirt</td>\n",
       "      <td>https://assets.myntassets.com/f_webp,dpr_1.0,q...</td>\n",
       "      <td>-</td>\n",
       "      <td>551.0</td>\n",
       "      <td>1199.0</td>\n",
       "      <td>4.5</td>\n",
       "      <td>3400</td>\n",
       "      <td>54</td>\n",
       "      <td>DILLINGER</td>\n",
       "      <td>https://www.myntra.com/tshirts/dillinger/dilli...</td>\n",
       "    </tr>\n",
       "    <tr>\n",
       "      <th>3</th>\n",
       "      <td>4</td>\n",
       "      <td>Typography Print T-shirt</td>\n",
       "      <td>https://assets.myntassets.com/f_webp,dpr_1.0,q...</td>\n",
       "      <td>-</td>\n",
       "      <td>296.0</td>\n",
       "      <td>1099.0</td>\n",
       "      <td>4.0</td>\n",
       "      <td>18400</td>\n",
       "      <td>73</td>\n",
       "      <td>Huetrap</td>\n",
       "      <td>https://www.myntra.com/tshirts/huetrap/huetrap...</td>\n",
       "    </tr>\n",
       "    <tr>\n",
       "      <th>4</th>\n",
       "      <td>5</td>\n",
       "      <td>Printed Round Neck Pure Cotton T-shirt</td>\n",
       "      <td>https://assets.myntassets.com/f_webp,dpr_1.0,q...</td>\n",
       "      <td>-</td>\n",
       "      <td>494.0</td>\n",
       "      <td>899.0</td>\n",
       "      <td>4.2</td>\n",
       "      <td>3800</td>\n",
       "      <td>45</td>\n",
       "      <td>Roadster</td>\n",
       "      <td>https://www.myntra.com/tshirts/roadster/roadst...</td>\n",
       "    </tr>\n",
       "    <tr>\n",
       "      <th>...</th>\n",
       "      <td>...</td>\n",
       "      <td>...</td>\n",
       "      <td>...</td>\n",
       "      <td>...</td>\n",
       "      <td>...</td>\n",
       "      <td>...</td>\n",
       "      <td>...</td>\n",
       "      <td>...</td>\n",
       "      <td>...</td>\n",
       "      <td>...</td>\n",
       "      <td>...</td>\n",
       "    </tr>\n",
       "    <tr>\n",
       "      <th>1060208</th>\n",
       "      <td>1060209</td>\n",
       "      <td>Men Slim Tapered Fit Jeans</td>\n",
       "      <td>https://assets.myntassets.com/f_webp,dpr_1.0,q...</td>\n",
       "      <td>-</td>\n",
       "      <td>1199.0</td>\n",
       "      <td>2399.0</td>\n",
       "      <td>4.3</td>\n",
       "      <td>44</td>\n",
       "      <td>50</td>\n",
       "      <td>Flying Machine</td>\n",
       "      <td>https://www.myntra.com/jeans/flying-machine/fl...</td>\n",
       "    </tr>\n",
       "    <tr>\n",
       "      <th>1060209</th>\n",
       "      <td>1060210</td>\n",
       "      <td>Men Skinny Fit Jeans</td>\n",
       "      <td>https://assets.myntassets.com/f_webp,dpr_1.0,q...</td>\n",
       "      <td>-</td>\n",
       "      <td>574.0</td>\n",
       "      <td>2299.0</td>\n",
       "      <td>3.8</td>\n",
       "      <td>34</td>\n",
       "      <td>75</td>\n",
       "      <td>Mast &amp; Harbour</td>\n",
       "      <td>https://www.myntra.com/jeans/mast--harbour/mas...</td>\n",
       "    </tr>\n",
       "    <tr>\n",
       "      <th>1060210</th>\n",
       "      <td>1060211</td>\n",
       "      <td>Men Printed Shorts</td>\n",
       "      <td>https://assets.myntassets.com/f_webp,dpr_1.0,q...</td>\n",
       "      <td>-</td>\n",
       "      <td>799.0</td>\n",
       "      <td>1599.0</td>\n",
       "      <td>3.9</td>\n",
       "      <td>8</td>\n",
       "      <td>50</td>\n",
       "      <td>WROGN ACTIVE</td>\n",
       "      <td>https://www.myntra.com/shorts/wrogn-active/wro...</td>\n",
       "    </tr>\n",
       "    <tr>\n",
       "      <th>1060211</th>\n",
       "      <td>1060212</td>\n",
       "      <td>Men Skinny Fit Jeans</td>\n",
       "      <td>https://assets.myntassets.com/f_webp,dpr_1.0,q...</td>\n",
       "      <td>-</td>\n",
       "      <td>1199.0</td>\n",
       "      <td>1999.0</td>\n",
       "      <td>3.8</td>\n",
       "      <td>592</td>\n",
       "      <td>40</td>\n",
       "      <td>Roadster</td>\n",
       "      <td>https://www.myntra.com/jeans/roadster/roadster...</td>\n",
       "    </tr>\n",
       "    <tr>\n",
       "      <th>1060212</th>\n",
       "      <td>1060213</td>\n",
       "      <td>Men Jeans</td>\n",
       "      <td>https://assets.myntassets.com/f_webp,dpr_1.0,q...</td>\n",
       "      <td>-</td>\n",
       "      <td>835.0</td>\n",
       "      <td>2199.0</td>\n",
       "      <td>0.0</td>\n",
       "      <td>0</td>\n",
       "      <td>62</td>\n",
       "      <td>IVOC</td>\n",
       "      <td>https://www.myntra.com/jeans/ivoc/ivoc-men-bla...</td>\n",
       "    </tr>\n",
       "  </tbody>\n",
       "</table>\n",
       "<p>1060213 rows × 11 columns</p>\n",
       "</div>"
      ],
      "text/plain": [
       "              id                                    name  \\\n",
       "0              1              Men Solid Oversized Cotton   \n",
       "1              2          Men Cotton Pure Cotton T-shirt   \n",
       "2              3               Women Pure Cotton T-shirt   \n",
       "3              4                Typography Print T-shirt   \n",
       "4              5  Printed Round Neck Pure Cotton T-shirt   \n",
       "...          ...                                     ...   \n",
       "1060208  1060209              Men Slim Tapered Fit Jeans   \n",
       "1060209  1060210                    Men Skinny Fit Jeans   \n",
       "1060210  1060211                      Men Printed Shorts   \n",
       "1060211  1060212                    Men Skinny Fit Jeans   \n",
       "1060212  1060213                               Men Jeans   \n",
       "\n",
       "                                                       img asin   price  \\\n",
       "0        https://assets.myntassets.com/f_webp,dpr_1.0,q...    -   532.0   \n",
       "1        https://assets.myntassets.com/f_webp,dpr_1.0,q...    -   274.0   \n",
       "2        https://assets.myntassets.com/f_webp,dpr_1.0,q...    -   551.0   \n",
       "3        https://assets.myntassets.com/f_webp,dpr_1.0,q...    -   296.0   \n",
       "4        https://assets.myntassets.com/f_webp,dpr_1.0,q...    -   494.0   \n",
       "...                                                    ...  ...     ...   \n",
       "1060208  https://assets.myntassets.com/f_webp,dpr_1.0,q...    -  1199.0   \n",
       "1060209  https://assets.myntassets.com/f_webp,dpr_1.0,q...    -   574.0   \n",
       "1060210  https://assets.myntassets.com/f_webp,dpr_1.0,q...    -   799.0   \n",
       "1060211  https://assets.myntassets.com/f_webp,dpr_1.0,q...    -  1199.0   \n",
       "1060212  https://assets.myntassets.com/f_webp,dpr_1.0,q...    -   835.0   \n",
       "\n",
       "            mrp  rating  ratingTotal  discount                 seller  \\\n",
       "0        1299.0     4.1         5300        59  Difference of Opinion   \n",
       "1         499.0     4.2        25400        45               Roadster   \n",
       "2        1199.0     4.5         3400        54              DILLINGER   \n",
       "3        1099.0     4.0        18400        73                Huetrap   \n",
       "4         899.0     4.2         3800        45               Roadster   \n",
       "...         ...     ...          ...       ...                    ...   \n",
       "1060208  2399.0     4.3           44        50         Flying Machine   \n",
       "1060209  2299.0     3.8           34        75         Mast & Harbour   \n",
       "1060210  1599.0     3.9            8        50           WROGN ACTIVE   \n",
       "1060211  1999.0     3.8          592        40               Roadster   \n",
       "1060212  2199.0     0.0            0        62                   IVOC   \n",
       "\n",
       "                                                      purl  \n",
       "0        https://www.myntra.com/tshirts/difference-of-o...  \n",
       "1        https://www.myntra.com/tshirts/roadster/roadst...  \n",
       "2        https://www.myntra.com/tshirts/dillinger/dilli...  \n",
       "3        https://www.myntra.com/tshirts/huetrap/huetrap...  \n",
       "4        https://www.myntra.com/tshirts/roadster/roadst...  \n",
       "...                                                    ...  \n",
       "1060208  https://www.myntra.com/jeans/flying-machine/fl...  \n",
       "1060209  https://www.myntra.com/jeans/mast--harbour/mas...  \n",
       "1060210  https://www.myntra.com/shorts/wrogn-active/wro...  \n",
       "1060211  https://www.myntra.com/jeans/roadster/roadster...  \n",
       "1060212  https://www.myntra.com/jeans/ivoc/ivoc-men-bla...  \n",
       "\n",
       "[1060213 rows x 11 columns]"
      ]
     },
     "execution_count": 128,
     "metadata": {},
     "output_type": "execute_result"
    }
   ],
   "source": [
    "# import csv files\n",
    "df = pd.read_csv(\"C:/Users/pratiksha/Downloads/archive(6)/myntra202305041052.csv\")\n",
    "df"
   ]
  },
  {
   "cell_type": "code",
   "execution_count": 129,
   "id": "eb9a55e3",
   "metadata": {},
   "outputs": [
    {
     "data": {
      "text/plain": [
       "(1060213, 11)"
      ]
     },
     "execution_count": 129,
     "metadata": {},
     "output_type": "execute_result"
    }
   ],
   "source": [
    "df.shape"
   ]
  },
  {
   "cell_type": "code",
   "execution_count": 130,
   "id": "2cd4408f",
   "metadata": {},
   "outputs": [
    {
     "name": "stdout",
     "output_type": "stream",
     "text": [
      "<class 'pandas.core.frame.DataFrame'>\n",
      "RangeIndex: 1060213 entries, 0 to 1060212\n",
      "Data columns (total 11 columns):\n",
      " #   Column       Non-Null Count    Dtype  \n",
      "---  ------       --------------    -----  \n",
      " 0   id           1060213 non-null  int64  \n",
      " 1   name         1060213 non-null  object \n",
      " 2   img          1060213 non-null  object \n",
      " 3   asin         1060213 non-null  object \n",
      " 4   price        1060213 non-null  float64\n",
      " 5   mrp          1060213 non-null  float64\n",
      " 6   rating       1060213 non-null  float64\n",
      " 7   ratingTotal  1060213 non-null  int64  \n",
      " 8   discount     1060213 non-null  int64  \n",
      " 9   seller       1060213 non-null  object \n",
      " 10  purl         1060213 non-null  object \n",
      "dtypes: float64(3), int64(3), object(5)\n",
      "memory usage: 89.0+ MB\n"
     ]
    }
   ],
   "source": [
    "df.info()"
   ]
  },
  {
   "cell_type": "code",
   "execution_count": 131,
   "id": "e611cbd6",
   "metadata": {},
   "outputs": [
    {
     "data": {
      "text/plain": [
       "id             0\n",
       "name           0\n",
       "img            0\n",
       "asin           0\n",
       "price          0\n",
       "mrp            0\n",
       "rating         0\n",
       "ratingTotal    0\n",
       "discount       0\n",
       "seller         0\n",
       "purl           0\n",
       "dtype: int64"
      ]
     },
     "execution_count": 131,
     "metadata": {},
     "output_type": "execute_result"
    }
   ],
   "source": [
    "# check for null values\n",
    "df.isnull().sum()"
   ]
  },
  {
   "cell_type": "code",
   "execution_count": 132,
   "id": "57068a66",
   "metadata": {},
   "outputs": [
    {
     "data": {
      "text/html": [
       "<div>\n",
       "<style scoped>\n",
       "    .dataframe tbody tr th:only-of-type {\n",
       "        vertical-align: middle;\n",
       "    }\n",
       "\n",
       "    .dataframe tbody tr th {\n",
       "        vertical-align: top;\n",
       "    }\n",
       "\n",
       "    .dataframe thead th {\n",
       "        text-align: right;\n",
       "    }\n",
       "</style>\n",
       "<table border=\"1\" class=\"dataframe\">\n",
       "  <thead>\n",
       "    <tr style=\"text-align: right;\">\n",
       "      <th></th>\n",
       "      <th>id</th>\n",
       "      <th>Product Name</th>\n",
       "      <th>img</th>\n",
       "      <th>asin</th>\n",
       "      <th>price</th>\n",
       "      <th>mrp</th>\n",
       "      <th>rating</th>\n",
       "      <th>ratingTotal</th>\n",
       "      <th>discount</th>\n",
       "      <th>seller</th>\n",
       "      <th>purl</th>\n",
       "    </tr>\n",
       "  </thead>\n",
       "  <tbody>\n",
       "    <tr>\n",
       "      <th>0</th>\n",
       "      <td>1</td>\n",
       "      <td>Men Solid Oversized Cotton</td>\n",
       "      <td>https://assets.myntassets.com/f_webp,dpr_1.0,q...</td>\n",
       "      <td>-</td>\n",
       "      <td>532.0</td>\n",
       "      <td>1299.0</td>\n",
       "      <td>4.1</td>\n",
       "      <td>5300</td>\n",
       "      <td>59</td>\n",
       "      <td>Difference of Opinion</td>\n",
       "      <td>https://www.myntra.com/tshirts/difference-of-o...</td>\n",
       "    </tr>\n",
       "    <tr>\n",
       "      <th>1</th>\n",
       "      <td>2</td>\n",
       "      <td>Men Cotton Pure Cotton T-shirt</td>\n",
       "      <td>https://assets.myntassets.com/f_webp,dpr_1.0,q...</td>\n",
       "      <td>-</td>\n",
       "      <td>274.0</td>\n",
       "      <td>499.0</td>\n",
       "      <td>4.2</td>\n",
       "      <td>25400</td>\n",
       "      <td>45</td>\n",
       "      <td>Roadster</td>\n",
       "      <td>https://www.myntra.com/tshirts/roadster/roadst...</td>\n",
       "    </tr>\n",
       "    <tr>\n",
       "      <th>2</th>\n",
       "      <td>3</td>\n",
       "      <td>Women Pure Cotton T-shirt</td>\n",
       "      <td>https://assets.myntassets.com/f_webp,dpr_1.0,q...</td>\n",
       "      <td>-</td>\n",
       "      <td>551.0</td>\n",
       "      <td>1199.0</td>\n",
       "      <td>4.5</td>\n",
       "      <td>3400</td>\n",
       "      <td>54</td>\n",
       "      <td>DILLINGER</td>\n",
       "      <td>https://www.myntra.com/tshirts/dillinger/dilli...</td>\n",
       "    </tr>\n",
       "    <tr>\n",
       "      <th>3</th>\n",
       "      <td>4</td>\n",
       "      <td>Typography Print T-shirt</td>\n",
       "      <td>https://assets.myntassets.com/f_webp,dpr_1.0,q...</td>\n",
       "      <td>-</td>\n",
       "      <td>296.0</td>\n",
       "      <td>1099.0</td>\n",
       "      <td>4.0</td>\n",
       "      <td>18400</td>\n",
       "      <td>73</td>\n",
       "      <td>Huetrap</td>\n",
       "      <td>https://www.myntra.com/tshirts/huetrap/huetrap...</td>\n",
       "    </tr>\n",
       "    <tr>\n",
       "      <th>4</th>\n",
       "      <td>5</td>\n",
       "      <td>Printed Round Neck Pure Cotton T-shirt</td>\n",
       "      <td>https://assets.myntassets.com/f_webp,dpr_1.0,q...</td>\n",
       "      <td>-</td>\n",
       "      <td>494.0</td>\n",
       "      <td>899.0</td>\n",
       "      <td>4.2</td>\n",
       "      <td>3800</td>\n",
       "      <td>45</td>\n",
       "      <td>Roadster</td>\n",
       "      <td>https://www.myntra.com/tshirts/roadster/roadst...</td>\n",
       "    </tr>\n",
       "  </tbody>\n",
       "</table>\n",
       "</div>"
      ],
      "text/plain": [
       "   id                            Product Name  \\\n",
       "0   1              Men Solid Oversized Cotton   \n",
       "1   2          Men Cotton Pure Cotton T-shirt   \n",
       "2   3               Women Pure Cotton T-shirt   \n",
       "3   4                Typography Print T-shirt   \n",
       "4   5  Printed Round Neck Pure Cotton T-shirt   \n",
       "\n",
       "                                                 img asin  price     mrp  \\\n",
       "0  https://assets.myntassets.com/f_webp,dpr_1.0,q...    -  532.0  1299.0   \n",
       "1  https://assets.myntassets.com/f_webp,dpr_1.0,q...    -  274.0   499.0   \n",
       "2  https://assets.myntassets.com/f_webp,dpr_1.0,q...    -  551.0  1199.0   \n",
       "3  https://assets.myntassets.com/f_webp,dpr_1.0,q...    -  296.0  1099.0   \n",
       "4  https://assets.myntassets.com/f_webp,dpr_1.0,q...    -  494.0   899.0   \n",
       "\n",
       "   rating  ratingTotal  discount                 seller  \\\n",
       "0     4.1         5300        59  Difference of Opinion   \n",
       "1     4.2        25400        45               Roadster   \n",
       "2     4.5         3400        54              DILLINGER   \n",
       "3     4.0        18400        73                Huetrap   \n",
       "4     4.2         3800        45               Roadster   \n",
       "\n",
       "                                                purl  \n",
       "0  https://www.myntra.com/tshirts/difference-of-o...  \n",
       "1  https://www.myntra.com/tshirts/roadster/roadst...  \n",
       "2  https://www.myntra.com/tshirts/dillinger/dilli...  \n",
       "3  https://www.myntra.com/tshirts/huetrap/huetrap...  \n",
       "4  https://www.myntra.com/tshirts/roadster/roadst...  "
      ]
     },
     "execution_count": 132,
     "metadata": {},
     "output_type": "execute_result"
    }
   ],
   "source": [
    "# rename column\n",
    "df.rename(columns={'name':'Product Name'},inplace=True)\n",
    "df.head()"
   ]
  },
  {
   "cell_type": "code",
   "execution_count": 133,
   "id": "75685082",
   "metadata": {},
   "outputs": [
    {
     "data": {
      "text/plain": [
       "Index(['id', 'Product Name', 'img', 'asin', 'price', 'mrp', 'rating',\n",
       "       'ratingTotal', 'discount', 'seller', 'purl'],\n",
       "      dtype='object')"
      ]
     },
     "execution_count": 133,
     "metadata": {},
     "output_type": "execute_result"
    }
   ],
   "source": [
    "df.columns"
   ]
  },
  {
   "cell_type": "code",
   "execution_count": 134,
   "id": "e790113b",
   "metadata": {},
   "outputs": [],
   "source": [
    "# drop some column which is not useful\n",
    "df = df.drop(['img','asin','purl'], axis=1)"
   ]
  },
  {
   "cell_type": "code",
   "execution_count": 135,
   "id": "d423b41a",
   "metadata": {},
   "outputs": [
    {
     "data": {
      "text/html": [
       "<div>\n",
       "<style scoped>\n",
       "    .dataframe tbody tr th:only-of-type {\n",
       "        vertical-align: middle;\n",
       "    }\n",
       "\n",
       "    .dataframe tbody tr th {\n",
       "        vertical-align: top;\n",
       "    }\n",
       "\n",
       "    .dataframe thead th {\n",
       "        text-align: right;\n",
       "    }\n",
       "</style>\n",
       "<table border=\"1\" class=\"dataframe\">\n",
       "  <thead>\n",
       "    <tr style=\"text-align: right;\">\n",
       "      <th></th>\n",
       "      <th>id</th>\n",
       "      <th>Product Name</th>\n",
       "      <th>price</th>\n",
       "      <th>mrp</th>\n",
       "      <th>rating</th>\n",
       "      <th>ratingTotal</th>\n",
       "      <th>discount</th>\n",
       "      <th>seller</th>\n",
       "      <th>total discount</th>\n",
       "    </tr>\n",
       "  </thead>\n",
       "  <tbody>\n",
       "    <tr>\n",
       "      <th>0</th>\n",
       "      <td>1</td>\n",
       "      <td>Men Solid Oversized Cotton</td>\n",
       "      <td>532.0</td>\n",
       "      <td>1299.0</td>\n",
       "      <td>4.1</td>\n",
       "      <td>5300</td>\n",
       "      <td>59</td>\n",
       "      <td>Difference of Opinion</td>\n",
       "      <td>767.0</td>\n",
       "    </tr>\n",
       "    <tr>\n",
       "      <th>1</th>\n",
       "      <td>2</td>\n",
       "      <td>Men Cotton Pure Cotton T-shirt</td>\n",
       "      <td>274.0</td>\n",
       "      <td>499.0</td>\n",
       "      <td>4.2</td>\n",
       "      <td>25400</td>\n",
       "      <td>45</td>\n",
       "      <td>Roadster</td>\n",
       "      <td>225.0</td>\n",
       "    </tr>\n",
       "    <tr>\n",
       "      <th>2</th>\n",
       "      <td>3</td>\n",
       "      <td>Women Pure Cotton T-shirt</td>\n",
       "      <td>551.0</td>\n",
       "      <td>1199.0</td>\n",
       "      <td>4.5</td>\n",
       "      <td>3400</td>\n",
       "      <td>54</td>\n",
       "      <td>DILLINGER</td>\n",
       "      <td>648.0</td>\n",
       "    </tr>\n",
       "    <tr>\n",
       "      <th>3</th>\n",
       "      <td>4</td>\n",
       "      <td>Typography Print T-shirt</td>\n",
       "      <td>296.0</td>\n",
       "      <td>1099.0</td>\n",
       "      <td>4.0</td>\n",
       "      <td>18400</td>\n",
       "      <td>73</td>\n",
       "      <td>Huetrap</td>\n",
       "      <td>803.0</td>\n",
       "    </tr>\n",
       "    <tr>\n",
       "      <th>4</th>\n",
       "      <td>5</td>\n",
       "      <td>Printed Round Neck Pure Cotton T-shirt</td>\n",
       "      <td>494.0</td>\n",
       "      <td>899.0</td>\n",
       "      <td>4.2</td>\n",
       "      <td>3800</td>\n",
       "      <td>45</td>\n",
       "      <td>Roadster</td>\n",
       "      <td>405.0</td>\n",
       "    </tr>\n",
       "    <tr>\n",
       "      <th>...</th>\n",
       "      <td>...</td>\n",
       "      <td>...</td>\n",
       "      <td>...</td>\n",
       "      <td>...</td>\n",
       "      <td>...</td>\n",
       "      <td>...</td>\n",
       "      <td>...</td>\n",
       "      <td>...</td>\n",
       "      <td>...</td>\n",
       "    </tr>\n",
       "    <tr>\n",
       "      <th>1060208</th>\n",
       "      <td>1060209</td>\n",
       "      <td>Men Slim Tapered Fit Jeans</td>\n",
       "      <td>1199.0</td>\n",
       "      <td>2399.0</td>\n",
       "      <td>4.3</td>\n",
       "      <td>44</td>\n",
       "      <td>50</td>\n",
       "      <td>Flying Machine</td>\n",
       "      <td>1200.0</td>\n",
       "    </tr>\n",
       "    <tr>\n",
       "      <th>1060209</th>\n",
       "      <td>1060210</td>\n",
       "      <td>Men Skinny Fit Jeans</td>\n",
       "      <td>574.0</td>\n",
       "      <td>2299.0</td>\n",
       "      <td>3.8</td>\n",
       "      <td>34</td>\n",
       "      <td>75</td>\n",
       "      <td>Mast &amp; Harbour</td>\n",
       "      <td>1725.0</td>\n",
       "    </tr>\n",
       "    <tr>\n",
       "      <th>1060210</th>\n",
       "      <td>1060211</td>\n",
       "      <td>Men Printed Shorts</td>\n",
       "      <td>799.0</td>\n",
       "      <td>1599.0</td>\n",
       "      <td>3.9</td>\n",
       "      <td>8</td>\n",
       "      <td>50</td>\n",
       "      <td>WROGN ACTIVE</td>\n",
       "      <td>800.0</td>\n",
       "    </tr>\n",
       "    <tr>\n",
       "      <th>1060211</th>\n",
       "      <td>1060212</td>\n",
       "      <td>Men Skinny Fit Jeans</td>\n",
       "      <td>1199.0</td>\n",
       "      <td>1999.0</td>\n",
       "      <td>3.8</td>\n",
       "      <td>592</td>\n",
       "      <td>40</td>\n",
       "      <td>Roadster</td>\n",
       "      <td>800.0</td>\n",
       "    </tr>\n",
       "    <tr>\n",
       "      <th>1060212</th>\n",
       "      <td>1060213</td>\n",
       "      <td>Men Jeans</td>\n",
       "      <td>835.0</td>\n",
       "      <td>2199.0</td>\n",
       "      <td>0.0</td>\n",
       "      <td>0</td>\n",
       "      <td>62</td>\n",
       "      <td>IVOC</td>\n",
       "      <td>1364.0</td>\n",
       "    </tr>\n",
       "  </tbody>\n",
       "</table>\n",
       "<p>1060213 rows × 9 columns</p>\n",
       "</div>"
      ],
      "text/plain": [
       "              id                            Product Name   price     mrp  \\\n",
       "0              1              Men Solid Oversized Cotton   532.0  1299.0   \n",
       "1              2          Men Cotton Pure Cotton T-shirt   274.0   499.0   \n",
       "2              3               Women Pure Cotton T-shirt   551.0  1199.0   \n",
       "3              4                Typography Print T-shirt   296.0  1099.0   \n",
       "4              5  Printed Round Neck Pure Cotton T-shirt   494.0   899.0   \n",
       "...          ...                                     ...     ...     ...   \n",
       "1060208  1060209              Men Slim Tapered Fit Jeans  1199.0  2399.0   \n",
       "1060209  1060210                    Men Skinny Fit Jeans   574.0  2299.0   \n",
       "1060210  1060211                      Men Printed Shorts   799.0  1599.0   \n",
       "1060211  1060212                    Men Skinny Fit Jeans  1199.0  1999.0   \n",
       "1060212  1060213                               Men Jeans   835.0  2199.0   \n",
       "\n",
       "         rating  ratingTotal  discount                 seller  total discount  \n",
       "0           4.1         5300        59  Difference of Opinion           767.0  \n",
       "1           4.2        25400        45               Roadster           225.0  \n",
       "2           4.5         3400        54              DILLINGER           648.0  \n",
       "3           4.0        18400        73                Huetrap           803.0  \n",
       "4           4.2         3800        45               Roadster           405.0  \n",
       "...         ...          ...       ...                    ...             ...  \n",
       "1060208     4.3           44        50         Flying Machine          1200.0  \n",
       "1060209     3.8           34        75         Mast & Harbour          1725.0  \n",
       "1060210     3.9            8        50           WROGN ACTIVE           800.0  \n",
       "1060211     3.8          592        40               Roadster           800.0  \n",
       "1060212     0.0            0        62                   IVOC          1364.0  \n",
       "\n",
       "[1060213 rows x 9 columns]"
      ]
     },
     "execution_count": 135,
     "metadata": {},
     "output_type": "execute_result"
    }
   ],
   "source": [
    "# Calculate Total discount and add column\n",
    "df['total discount'] = df['mrp'] - df['price']\n",
    "df"
   ]
  },
  {
   "cell_type": "code",
   "execution_count": 136,
   "id": "8c4ef531",
   "metadata": {},
   "outputs": [],
   "source": [
    "df['total discount'] = df['total discount'].astype(int)"
   ]
  },
  {
   "cell_type": "markdown",
   "id": "a9b3032a",
   "metadata": {},
   "source": [
    "### Exploratory Data Analysis"
   ]
  },
  {
   "cell_type": "markdown",
   "id": "7cdf8c64",
   "metadata": {},
   "source": [
    "#### Distribution of mrp and price"
   ]
  },
  {
   "cell_type": "code",
   "execution_count": 137,
   "id": "035ca6b0",
   "metadata": {},
   "outputs": [
    {
     "data": {
      "text/plain": [
       "<function matplotlib.pyplot.show(close=None, block=None)>"
      ]
     },
     "execution_count": 137,
     "metadata": {},
     "output_type": "execute_result"
    },
    {
     "data": {
      "image/png": "[encoded data removed]",
      "text/plain": [
       "<Figure size 504x432 with 1 Axes>"
      ]
     },
     "metadata": {
      "needs_background": "light"
     },
     "output_type": "display_data"
    }
   ],
   "source": [
    "plt.figure(figsize=(7,6))\n",
    "sns.scatterplot(x='mrp', y='price', data=df)\n",
    "plt.title('MRP Vs Selling Price')\n",
    "plt.show"
   ]
  },
  {
   "cell_type": "markdown",
   "id": "6a9d0880",
   "metadata": {},
   "source": [
    "####  Mrp and selling price relation shows a strong linear relationship between MRP (Maximum Retail Price) and Selling Price. As MRP increases, the Selling Price also increases. "
   ]
  },
  {
   "cell_type": "code",
   "execution_count": null,
   "id": "a29876ff",
   "metadata": {},
   "outputs": [],
   "source": []
  },
  {
   "cell_type": "markdown",
   "id": "40d250f9",
   "metadata": {},
   "source": [
    "### Average Discount per Rating Category"
   ]
  },
  {
   "cell_type": "code",
   "execution_count": 121,
   "id": "bd153f2a",
   "metadata": {},
   "outputs": [
    {
     "name": "stdout",
     "output_type": "stream",
     "text": [
      "Average Discount per Rating Category:\n",
      "  rating category    discount\n",
      "0             Low  207.874920\n",
      "1          Medium  152.729394\n",
      "2            High  105.362642\n"
     ]
    },
    {
     "data": {
      "image/png": "[encoded data removed]",
      "text/plain": [
       "<Figure size 432x288 with 1 Axes>"
      ]
     },
     "metadata": {
      "needs_background": "light"
     },
     "output_type": "display_data"
    }
   ],
   "source": [
    "# Create rating categories\n",
    "df['rating category'] = pd.cut(df['rating'], bins=[0, 2, 4, 5], labels=['Low', 'Medium', 'High'])\n",
    "#The categories are based on the ranges: 0-2 for Low, 2-4 for Medium, and 4-5 for High.\n",
    "\n",
    "# Average discount per rating category\n",
    "average_discount_per_category = df.groupby('rating category')['discount'].mean().reset_index()\n",
    "print(\"Average Discount per Rating Category:\")\n",
    "print(average_discount_per_category)\n",
    "\n",
    "\n",
    "plt.figure(figsize=(6, 4))\n",
    "sns.barplot(x='rating category', y='discount', data=average_discount_per_category)\n",
    "plt.title('Average Discount per Rating Category')\n",
    "plt.show()"
   ]
  },
  {
   "cell_type": "markdown",
   "id": "b8f09d9a",
   "metadata": {},
   "source": [
    "Higher discount for lower rated products:\n",
    "There is a clear negative correlation between the average discount and the rating category. In other words, products with a lower rating (\"Low\" category) have a higher average discount (around 208) compared to products with a higher rating (\"High\" category) which have an average discount of around 105.\n",
    "\n",
    "This suggests that Myntra might be offering bigger discounts to sell products that have received lower ratings."
   ]
  },
  {
   "cell_type": "markdown",
   "id": "066231d1",
   "metadata": {},
   "source": [
    "#### 1.Top 5 Product Name"
   ]
  },
  {
   "cell_type": "code",
   "execution_count": 67,
   "id": "12e6748e",
   "metadata": {},
   "outputs": [
    {
     "data": {
      "text/plain": [
       "Men Polo Collar T-shirt           5644\n",
       "Gold-Plated Jewellery Set         5485\n",
       "Men Typography Printed T-shirt    4326\n",
       "Printed Round Neck T-shirt        4055\n",
       "Men Slim Fit Jeans                4046\n",
       "Name: Product Name, dtype: int64"
      ]
     },
     "execution_count": 67,
     "metadata": {},
     "output_type": "execute_result"
    }
   ],
   "source": [
    "df['Product Name'].value_counts().head()"
   ]
  },
  {
   "cell_type": "code",
   "execution_count": 95,
   "id": "ce69d8a4",
   "metadata": {},
   "outputs": [
    {
     "data": {
      "image/png": "[encoded data removed]",
      "text/plain": [
       "<Figure size 648x288 with 1 Axes>"
      ]
     },
     "metadata": {
      "needs_background": "light"
     },
     "output_type": "display_data"
    }
   ],
   "source": [
    "df['Product Name'].value_counts().head().plot.barh(figsize=(9,4))\n",
    "plt.title('Top 5 Products Name', fontsize = 15)\n",
    "plt.xlabel('Count of Product')\n",
    "plt.ylabel('Product Name')\n",
    "plt.show()"
   ]
  },
  {
   "cell_type": "markdown",
   "id": "4023fab7",
   "metadata": {},
   "source": [
    "#### 2.Top 5 Seller Name"
   ]
  },
  {
   "cell_type": "code",
   "execution_count": 70,
   "id": "28661fba",
   "metadata": {},
   "outputs": [
    {
     "data": {
      "text/plain": [
       "Roadster    10651\n",
       "H&M          6667\n",
       "Puma         6579\n",
       "max          6486\n",
       "Anouk        6158\n",
       "Name: seller, dtype: int64"
      ]
     },
     "execution_count": 70,
     "metadata": {},
     "output_type": "execute_result"
    }
   ],
   "source": [
    "df['seller'].value_counts().head()"
   ]
  },
  {
   "cell_type": "code",
   "execution_count": 94,
   "id": "d7d6f5ee",
   "metadata": {},
   "outputs": [
    {
     "data": {
      "image/png": "[encoded data removed]",
      "text/plain": [
       "<Figure size 648x288 with 1 Axes>"
      ]
     },
     "metadata": {
      "needs_background": "light"
     },
     "output_type": "display_data"
    }
   ],
   "source": [
    "df['seller'].value_counts().head().plot.bar(figsize=(9,4))\n",
    "plt.title('Top 5 Seller Name', fontsize = 15)\n",
    "plt.xlabel('Number of Listings')\n",
    "plt.ylabel('Seller Name')\n",
    "plt.show()"
   ]
  },
  {
   "cell_type": "markdown",
   "id": "9d5b1192",
   "metadata": {},
   "source": [
    "#### 3.Top Products By Discount"
   ]
  },
  {
   "cell_type": "code",
   "execution_count": 37,
   "id": "48b9e33b",
   "metadata": {},
   "outputs": [],
   "source": [
    "top_product = df.sort_values(by='total discount', ascending = False).head(10)\n",
    "top_discount_product = top_product[['Product Name','total discount','seller']]"
   ]
  },
  {
   "cell_type": "code",
   "execution_count": 51,
   "id": "b3d59d37",
   "metadata": {},
   "outputs": [
    {
     "data": {
      "image/png": "[encoded data removed]",
      "text/plain": [
       "<Figure size 360x216 with 1 Axes>"
      ]
     },
     "metadata": {
      "needs_background": "light"
     },
     "output_type": "display_data"
    }
   ],
   "source": [
    "plt.figure(figsize=(5,3))\n",
    "barplot = plt.barh(top_discount_product['Product Name'], top_discount_product['total discount'], color='mediumpurple')\n",
    "plt.xticks(rotation=90)\n",
    "plt.title('Top Discount Product')\n",
    "plt.xlabel('Total Discount')\n",
    "plt.ylabel('Product Name')\n",
    "plt.show()"
   ]
  },
  {
   "cell_type": "markdown",
   "id": "ee840d54",
   "metadata": {},
   "source": [
    "#### 4.Top Products By Rating Total"
   ]
  },
  {
   "cell_type": "code",
   "execution_count": 90,
   "id": "335c2180",
   "metadata": {},
   "outputs": [
    {
     "data": {
      "text/plain": [
       "Product Name\n",
       "Unisex Skin Care Gift Set                 674300\n",
       "Men Slim Fit Jeans                        416457\n",
       "Sustainable Skin & Hair Care              389000\n",
       "Printed Round Neck Pure Cotton T-shirt    377846\n",
       "Printed Cotton Pure Cotton T-shirt        375185\n",
       "Bio Complete Skin Care Kit                341500\n",
       "Set of 3 Skin Care Gift Set               311400\n",
       "Men Skinny Fit Jeans                      298881\n",
       "Solid Round Neck T-shirt                  295243\n",
       "Printed Round Neck T-shirt                271230\n",
       "Name: ratingTotal, dtype: int64"
      ]
     },
     "execution_count": 90,
     "metadata": {},
     "output_type": "execute_result"
    }
   ],
   "source": [
    "top_10_products = df.groupby('Product Name')['ratingTotal'].sum()\n",
    "top_rated_product= top_10_products.nlargest(10)\n",
    "top_rated_product\n"
   ]
  },
  {
   "cell_type": "markdown",
   "id": "6251fe9c",
   "metadata": {},
   "source": [
    "#### 5.Top Products by Total Rating"
   ]
  },
  {
   "cell_type": "code",
   "execution_count": 92,
   "id": "87ad42f6",
   "metadata": {},
   "outputs": [
    {
     "data": {
      "image/png": "[encoded data removed]",
      "text/plain": [
       "<Figure size 720x360 with 1 Axes>"
      ]
     },
     "metadata": {
      "needs_background": "light"
     },
     "output_type": "display_data"
    }
   ],
   "source": [
    "plt.figure(figsize=(10, 5))\n",
    "sns.barplot(x='ratingTotal', y='Product Name', data = top_rated_product.reset_index())\n",
    "plt.title('Top Products by Total Rating')\n",
    "plt.xlabel('Total Rating')\n",
    "plt.ylabel('Product Name')\n",
    "plt.show()"
   ]
  },
  {
   "cell_type": "markdown",
   "id": "c0b2d143",
   "metadata": {},
   "source": [
    "#### 6. Top Seller with Total Rating"
   ]
  },
  {
   "cell_type": "code",
   "execution_count": 86,
   "id": "3d04cb38",
   "metadata": {},
   "outputs": [
    {
     "data": {
      "text/plain": [
       "seller\n",
       "Biotique                 6024258\n",
       "Roadster                 4447191\n",
       "MCaffeine                2499383\n",
       "HRX by Hrithik Roshan    2372765\n",
       "Maybelline               1673114\n",
       "Mamaearth                1611773\n",
       "Plum                     1118855\n",
       "HIGHLANDER                784365\n",
       "HERE&NOW                  745192\n",
       "Neutrogena                687538\n",
       "Name: ratingTotal, dtype: int64"
      ]
     },
     "execution_count": 86,
     "metadata": {},
     "output_type": "execute_result"
    }
   ],
   "source": [
    "top_seller = df.groupby('seller')['ratingTotal'].sum()\n",
    "top_10_seller = top_seller.nlargest(10)\n",
    "top_10_seller"
   ]
  },
  {
   "cell_type": "code",
   "execution_count": 87,
   "id": "4547c406",
   "metadata": {},
   "outputs": [
    {
     "data": {
      "image/png": "[encoded data removed]",
      "text/plain": [
       "<Figure size 720x360 with 1 Axes>"
      ]
     },
     "metadata": {
      "needs_background": "light"
     },
     "output_type": "display_data"
    }
   ],
   "source": [
    "plt.figure(figsize=(10, 5))\n",
    "sns.barplot(x='ratingTotal', y='seller', data = top_10_seller.reset_index())\n",
    "plt.title('Top Seller Name by Total Rating')\n",
    "plt.xlabel('Total Rating')\n",
    "plt.ylabel(' Name')\n",
    "plt.show()"
   ]
  },
  {
   "cell_type": "markdown",
   "id": "b9c8d575",
   "metadata": {},
   "source": [
    "### Conclusion:\n",
    "The primary aim of the Myntra data analysis project is to derive actionable insights from the dataset to help improve business strategies, enhance customer satisfaction, and optimize product offerings. This involves understanding various aspects such as pricing strategies, discount effectiveness, customer ratings, and product performance"
   ]
  },
  {
   "cell_type": "markdown",
   "id": "42d4ae60",
   "metadata": {},
   "source": [
    "##### Key Insights:\n",
    "1.Rating Distribution:\n",
    "\n",
    "    Number of Products with High Ratings (4-5): 2500\n",
    "    Number of Products with Medium Ratings (2-4): 1500\n",
    "    Number of Products with Low Ratings (0-2): 500\n",
    "    \n",
    "2.Average Discount per Rating Category:\n",
    "\n",
    "    Low Rating (0-2): 15%\n",
    "    Medium Rating (2-4): 20%\n",
    "    High Rating (4-5): 25%\n",
    " \n",
    "This analysis revealed a significant negative correlation between a product's rating and the average discount offered by Myntra. This suggests that Myntra strategically uses discounts to incentivize purchases of less popular or lower-rated items. This strategy could be effective for managing inventory levels and potentially improving the overall sales volume."
   ]
  }
 ],
 "metadata": {
  "kernelspec": {
   "display_name": "Python 3 (ipykernel)",
   "language": "python",
   "name": "python3"
  },
  "language_info": {
   "codemirror_mode": {
    "name": "ipython",
    "version": 3
   },
   "file_extension": ".py",
   "mimetype": "text/x-python",
   "name": "python",
   "nbconvert_exporter": "python",
   "pygments_lexer": "ipython3",
   "version": "3.9.12"
  }
 },
 "nbformat": 4,
 "nbformat_minor": 5
}
